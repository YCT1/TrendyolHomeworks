{
 "cells": [
  {
   "cell_type": "code",
   "execution_count": 24,
   "metadata": {},
   "outputs": [],
   "source": [
    "import torch\n",
    "import torch.optim as optim\n",
    "import pandas as pd\n",
    "from sklearn.datasets import fetch_california_housing\n",
    "import numpy as np"
   ]
  },
  {
   "cell_type": "code",
   "execution_count": 25,
   "metadata": {},
   "outputs": [],
   "source": [
    "\n",
    "\n",
    "class myModel(torch.nn.Module):\n",
    "    def __init__(self):\n",
    "        super().__init__()\n",
    "        self.b0 = torch.nn.Parameter(torch.randn(()))\n",
    "        self.b1 = torch.nn.Parameter(torch.randn(()))\n",
    "    \n",
    "    def forward(self, x):\n",
    "        return self.b0 + self.b1 * x\n",
    "    "
   ]
  },
  {
   "cell_type": "code",
   "execution_count": 28,
   "metadata": {},
   "outputs": [],
   "source": [
    "cal_housing = fetch_california_housing() \n",
    "X = pd.DataFrame(cal_housing.data, columns=cal_housing.feature_names) \n",
    "y = cal_housing.target \n",
    "df = pd.DataFrame( \n",
    "        dict(MedInc=X['MedInc'], Price=cal_housing.target))\n",
    "X, y = df[\"MedInc\"].to_numpy(), df[\"Price\"].to_numpy()   \n",
    "X = torch.from_numpy(X)\n",
    "y = torch.from_numpy(y)"
   ]
  },
  {
   "cell_type": "code",
   "execution_count": 38,
   "metadata": {},
   "outputs": [],
   "source": [
    "model = myModel()\n",
    "op = optim.SGD(model.parameters(), lr=0.01, momentum=0.9)\n",
    "\n",
    "with torch.autograd.set_detect_anomaly(True):\n",
    "    for i in range(100):\n",
    "        y_pred = model(X)\n",
    "\n",
    "        a = torch.mean((y_pred-y)**2)\n",
    "        op.zero_grad()\n",
    "        a.backward()\n",
    "        op.step()\n"
   ]
  },
  {
   "cell_type": "code",
   "execution_count": 39,
   "metadata": {},
   "outputs": [
    {
     "name": "stdout",
     "output_type": "stream",
     "text": [
      "b0 tensor(0.4509)\n",
      "b1 tensor(0.4179)\n"
     ]
    }
   ],
   "source": [
    "for name, param in model.named_parameters():\n",
    "    if param.requires_grad:\n",
    "        print (name, param.data)"
   ]
  }
 ],
 "metadata": {
  "interpreter": {
   "hash": "4a58629c167b22d17cee97ce8d962734f04656b21e4adc5e2e5541264ba60242"
  },
  "kernelspec": {
   "display_name": "Python 3.8.10 64-bit",
   "language": "python",
   "name": "python3"
  },
  "language_info": {
   "codemirror_mode": {
    "name": "ipython",
    "version": 3
   },
   "file_extension": ".py",
   "mimetype": "text/x-python",
   "name": "python",
   "nbconvert_exporter": "python",
   "pygments_lexer": "ipython3",
   "version": "3.8.10"
  },
  "orig_nbformat": 4
 },
 "nbformat": 4,
 "nbformat_minor": 2
}
