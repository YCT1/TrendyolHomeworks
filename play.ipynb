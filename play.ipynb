{
 "cells": [
  {
   "cell_type": "markdown",
   "metadata": {},
   "source": [
    "# Playing Notepad\n",
    "\n",
    "This notepad used for experimental usage of my code."
   ]
  },
  {
   "cell_type": "code",
   "execution_count": 24,
   "metadata": {},
   "outputs": [],
   "source": [
    "import torch\n",
    "import torch.optim as optim\n",
    "import pandas as pd\n",
    "from sklearn.datasets import fetch_california_housing\n",
    "import numpy as np"
   ]
  },
  {
   "cell_type": "code",
   "execution_count": 25,
   "metadata": {},
   "outputs": [],
   "source": [
    "\n",
    "\n",
    "class myModel(torch.nn.Module):\n",
    "    def __init__(self):\n",
    "        super().__init__()\n",
    "        self.b0 = torch.nn.Parameter(torch.randn(()))\n",
    "        self.b1 = torch.nn.Parameter(torch.randn(()))\n",
    "    \n",
    "    def forward(self, x):\n",
    "        return self.b0 + self.b1 * x\n",
    "    "
   ]
  },
  {
   "cell_type": "code",
   "execution_count": 28,
   "metadata": {},
   "outputs": [],
   "source": [
    "cal_housing = fetch_california_housing() \n",
    "X = pd.DataFrame(cal_housing.data, columns=cal_housing.feature_names) \n",
    "y = cal_housing.target \n",
    "df = pd.DataFrame( \n",
    "        dict(MedInc=X['MedInc'], Price=cal_housing.target))\n",
    "X, y = df[\"MedInc\"].to_numpy(), df[\"Price\"].to_numpy()   \n",
    "X = torch.from_numpy(X)\n",
    "y = torch.from_numpy(y)"
   ]
  },
  {
   "cell_type": "code",
   "execution_count": 38,
   "metadata": {},
   "outputs": [],
   "source": [
    "model = myModel()\n",
    "op = optim.SGD(model.parameters(), lr=0.01, momentum=0.9)\n",
    "\n",
    "with torch.autograd.set_detect_anomaly(True):\n",
    "    for i in range(100):\n",
    "        y_pred = model(X)\n",
    "\n",
    "        a = torch.mean((y_pred-y)**2)\n",
    "        op.zero_grad()\n",
    "        a.backward()\n",
    "        op.step()\n"
   ]
  },
  {
   "cell_type": "code",
   "execution_count": 39,
   "metadata": {},
   "outputs": [
    {
     "name": "stdout",
     "output_type": "stream",
     "text": [
      "b0 tensor(0.4509)\n",
      "b1 tensor(0.4179)\n"
     ]
    }
   ],
   "source": [
    "for name, param in model.named_parameters():\n",
    "    if param.requires_grad:\n",
    "        print (name, param.data)"
   ]
  },
  {
   "cell_type": "code",
   "execution_count": 38,
   "metadata": {},
   "outputs": [],
   "source": [
    "import numpy as np\n",
    "def softCap(x : np.array, threshold=1,b=0.05):\n",
    "        \"\"\"\n",
    "        Soft capping function\n",
    "        \"\"\"\n",
    "        return threshold * (1/-np.exp(b*x) + 1)\n",
    "\n",
    "def loss(y: np.array, y_pred: np.array):\n",
    "    \n",
    "    loss = (y_pred-y)**2\n",
    "    loss = softCap(loss,threshold=5)\n",
    "    return loss\n",
    "\n",
    "\n",
    "x, y = np.linspace(-10, 10, 1000), np.linspace(-10, 10, 1000)\n",
    "z = np.zeros((1000,1000))\n",
    "for i in range(len(z)):\n",
    "    for j in range(len(z[i])):\n",
    "        z[i][j] = loss(x[i],y[j])\n",
    "\n"
   ]
  },
  {
   "cell_type": "code",
   "execution_count": 45,
   "metadata": {},
   "outputs": [
    {
     "data": {
      "text/plain": [
       "(1000, 1000)"
      ]
     },
     "execution_count": 45,
     "metadata": {},
     "output_type": "execute_result"
    }
   ],
   "source": [
    "x, y = np.linspace(-10, 10, 1000), np.linspace(-10, 10, 1000)\n",
    "xv, yv = np.meshgrid(x, y)\n",
    "z = loss(xv,yv)\n",
    "z.shape"
   ]
  },
  {
   "cell_type": "code",
   "execution_count": 15,
   "metadata": {},
   "outputs": [],
   "source": [
    "z\n",
    "np.save(\"calculatedLossSpace.npy\",z)"
   ]
  }
 ],
 "metadata": {
  "interpreter": {
   "hash": "4a58629c167b22d17cee97ce8d962734f04656b21e4adc5e2e5541264ba60242"
  },
  "kernelspec": {
   "display_name": "Python 3.8.10 64-bit",
   "language": "python",
   "name": "python3"
  },
  "language_info": {
   "codemirror_mode": {
    "name": "ipython",
    "version": 3
   },
   "file_extension": ".py",
   "mimetype": "text/x-python",
   "name": "python",
   "nbconvert_exporter": "python",
   "pygments_lexer": "ipython3",
   "version": "3.8.10"
  },
  "orig_nbformat": 4
 },
 "nbformat": 4,
 "nbformat_minor": 2
}
