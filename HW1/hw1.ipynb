{
 "cells": [
  {
   "cell_type": "code",
   "execution_count": 2,
   "metadata": {},
   "outputs": [],
   "source": [
    "# Yekta Can Tursun\n",
    "import pandas as pd\n",
    "import numpy as np\n",
    "from sklearn.datasets import fetch_california_housing"
   ]
  },
  {
   "cell_type": "code",
   "execution_count": 3,
   "metadata": {},
   "outputs": [],
   "source": [
    "# Load data\n",
    "\n",
    "cal_housing = fetch_california_housing() \n",
    "X = pd.DataFrame(cal_housing.data, columns=cal_housing.feature_names) \n",
    "y = cal_housing.target \n",
    " \n",
    " \n",
    "df = pd.DataFrame( \n",
    "        dict(MedInc=X['MedInc'], Price=cal_housing.target))"
   ]
  },
  {
   "cell_type": "code",
   "execution_count": 6,
   "metadata": {},
   "outputs": [],
   "source": [
    "# Define Models\n",
    "\n",
    "def model3(x, y, lam, alpha=0.0001) -> np.ndarray:\n",
    "    print(\"starting sgd\")\n",
    "    np.random.seed(10)\n",
    "    beta = np.random.random(2)\n",
    "\n",
    "    for i in range(1000):\n",
    "        y_pred: np.ndarray = beta[0] + beta[1] * x\n",
    "\n",
    "        if beta[0] >= 0:\n",
    "            g_b0 = -2 * (y - y_pred).sum() + lam\n",
    "        else:\n",
    "            g_b0 = -2 * (y - y_pred).sum() - lam\n",
    "\n",
    "        if beta[1] >= 0:\n",
    "            g_b1 = -2 * (x * (y - y_pred)).sum() + lam\n",
    "        else:\n",
    "            g_b1 = -2 * (x * (y - y_pred)).sum() - lam\n",
    "\n",
    "        print(f\"({i}) beta: {beta}, gradient: {g_b0} {g_b1}\")\n",
    "\n",
    "        beta_prev = np.copy(beta)\n",
    "\n",
    "        beta[0] = beta[0] - alpha * g_b0\n",
    "        beta[1] = beta[1] - alpha * g_b1\n",
    "\n",
    "        if np.linalg.norm(beta - beta_prev) < 0.000001:\n",
    "            print(f\"I do early stoping at iteration {i}\")\n",
    "            break\n",
    "\n",
    "    return beta\n",
    "\n",
    "\n",
    "def model2(x, y, lam, alpha=0.0001) -> np.ndarray:\n",
    "    print(\"starting sgd\")\n",
    "    np.random.seed(10)\n",
    "    beta = np.random.random(2)\n",
    "\n",
    "    for i in range(1000):\n",
    "        y_pred: np.ndarray = beta[0] + beta[1] * x\n",
    "\n",
    "        g_b0 = -2 * (y - y_pred).sum() + 2 * lam * beta[0]\n",
    "        g_b1 = -2 * (x * (y - y_pred)).sum() + 2 * lam * beta[1]\n",
    "\n",
    "        print(f\"({i}) beta: {beta}, gradient: {g_b0} {g_b1}\")\n",
    "\n",
    "        beta_prev = np.copy(beta)\n",
    "\n",
    "        beta[0] = beta[0] - alpha * g_b0\n",
    "        beta[1] = beta[1] - alpha * g_b1\n",
    "\n",
    "        if np.linalg.norm(beta - beta_prev) < 0.000001:\n",
    "            print(f\"I do early stoping at iteration {i}\")\n",
    "            break\n",
    "\n",
    "    return beta\n",
    "\n",
    "\n",
    "def model1(x, y, alpha=0.001, verbose=False) -> np.ndarray:\n",
    "    np.random.seed(10)\n",
    "    beta = np.random.random(2)\n",
    "    print(\"starting sgd\")\n",
    "    for i in range(100):\n",
    "        y_pred: np.ndarray = beta[0] + beta[1] * x\n",
    "\n",
    "        g_b0 = -2 * (y - y_pred).sum()\n",
    "        g_b1 = -2 * (x * (y - y_pred)).sum()\n",
    "\n",
    "        print(f\"({i}) beta: {beta}, gradient: {g_b0} {g_b1}\")\n",
    "\n",
    "        beta_prev = np.copy(beta)\n",
    "\n",
    "        beta[0] = beta[0] - alpha * g_b0\n",
    "        beta[1] = beta[1] - alpha * g_b1\n",
    "\n",
    "        if np.linalg.norm(beta - beta_prev) < 0.001:\n",
    "            print(f\"I do early stoping at iteration {i}\")\n",
    "            break\n",
    "\n",
    "    return beta\n"
   ]
  },
  {
   "cell_type": "code",
   "execution_count": 9,
   "metadata": {},
   "outputs": [
    {
     "data": {
      "text/plain": [
       "0        8.3252\n",
       "1        8.3014\n",
       "2        7.2574\n",
       "3        5.6431\n",
       "4        3.8462\n",
       "          ...  \n",
       "20635    1.5603\n",
       "20636    2.5568\n",
       "20637    1.7000\n",
       "20638    1.8672\n",
       "20639    2.3886\n",
       "Name: MedInc, Length: 20640, dtype: float64"
      ]
     },
     "execution_count": 9,
     "metadata": {},
     "output_type": "execute_result"
    }
   ],
   "source": [
    "X, y = df[\"MedInc\"].to_numpy(), df[\"Price\"].to_numpy()\n"
   ]
  }
 ],
 "metadata": {
  "interpreter": {
   "hash": "4a58629c167b22d17cee97ce8d962734f04656b21e4adc5e2e5541264ba60242"
  },
  "kernelspec": {
   "display_name": "Python 3.8.10 64-bit",
   "language": "python",
   "name": "python3"
  },
  "language_info": {
   "codemirror_mode": {
    "name": "ipython",
    "version": 3
   },
   "file_extension": ".py",
   "mimetype": "text/x-python",
   "name": "python",
   "nbconvert_exporter": "python",
   "pygments_lexer": "ipython3",
   "version": "3.8.10"
  },
  "orig_nbformat": 4
 },
 "nbformat": 4,
 "nbformat_minor": 2
}
